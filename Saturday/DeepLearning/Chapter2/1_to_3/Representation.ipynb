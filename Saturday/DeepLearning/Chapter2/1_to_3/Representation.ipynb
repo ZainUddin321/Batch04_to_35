{
 "cells": [
  {
   "cell_type": "code",
   "execution_count": 1,
   "metadata": {},
   "outputs": [],
   "source": [
    "import numpy as np"
   ]
  },
  {
   "cell_type": "markdown",
   "metadata": {},
   "source": [
    "# Data representations for neural networks\n",
    "- [[ count opening bricket = Number of tensor Dimension = Rank = Axes"
   ]
  },
  {
   "cell_type": "markdown",
   "metadata": {},
   "source": [
    "##    2.2.1\n",
    "Scalars (0D tensors)"
   ]
  },
  {
   "cell_type": "code",
   "execution_count": 3,
   "metadata": {},
   "outputs": [
    {
     "name": "stdout",
     "output_type": "stream",
     "text": [
      "25\n",
      "0\n",
      "int64\n",
      "()\n"
     ]
    }
   ],
   "source": [
    "a = np.array(25)\n",
    "print(a)\n",
    "print(a.ndim)\n",
    "print(a.dtype)\n",
    "print(a.shape)\n",
    "# ORank Tensor, 0D Tensor, it has 0 Axes"
   ]
  },
  {
   "cell_type": "markdown",
   "metadata": {},
   "source": [
    "## 2.2.2\n",
    "Vectors (1D tensors)"
   ]
  },
  {
   "cell_type": "code",
   "execution_count": 7,
   "metadata": {},
   "outputs": [
    {
     "name": "stdout",
     "output_type": "stream",
     "text": [
      "[12  3  6 14  5]\n",
      "1\n",
      "int64\n",
      "(5,)\n"
     ]
    }
   ],
   "source": [
    "a = np.array([12, 3, 6, 14,5])\n",
    "print(a)\n",
    "print(a.ndim)#axis, dimension# Rank\n",
    "print(a.dtype)\n",
    "print(a.shape)#how many index in perticular axes"
   ]
  },
  {
   "cell_type": "code",
   "execution_count": 8,
   "metadata": {},
   "outputs": [
    {
     "name": "stdout",
     "output_type": "stream",
     "text": [
      "[[[[[6]]]]]\n",
      "5\n",
      "int64\n",
      "(1, 1, 1, 1, 1)\n"
     ]
    }
   ],
   "source": [
    "a = np.array([[[[[6]]]]])\n",
    "print(a)\n",
    "print(a.ndim)#axis, dimension# Rank\n",
    "print(a.dtype)\n",
    "print(a.shape)#how many index in perticular axes"
   ]
  },
  {
   "cell_type": "code",
   "execution_count": 9,
   "metadata": {},
   "outputs": [
    {
     "data": {
      "text/plain": [
       "[6]"
      ]
     },
     "execution_count": 9,
     "metadata": {},
     "output_type": "execute_result"
    }
   ],
   "source": [
    "[12, 3, 6, 14,5] #5-dimensional Vector\n",
    "[6] # 1-dimension Vector"
   ]
  },
  {
   "cell_type": "markdown",
   "metadata": {},
   "source": [
    "## 2.2.3\n",
    "Matrices (2D tensors)"
   ]
  },
  {
   "cell_type": "code",
   "execution_count": 11,
   "metadata": {},
   "outputs": [
    {
     "name": "stdout",
     "output_type": "stream",
     "text": [
      "[[ 5 78  2 34  0]\n",
      " [ 6 79  3 35  1]\n",
      " [ 7 80  4 36  2]]\n",
      "2\n",
      "int64\n",
      "(3, 5)\n"
     ]
    }
   ],
   "source": [
    "a = np.array([[5, 78, 2, 34, 0],\n",
    "          [6, 79, 3, 35, 1],\n",
    "          [7, 80, 4, 36, 2]])\n",
    "\n",
    "print(a)\n",
    "print(a.ndim)#axis, dimension# Rank\n",
    "print(a.dtype)\n",
    "print(a.shape)#how many index in perticular axes"
   ]
  },
  {
   "cell_type": "markdown",
   "metadata": {},
   "source": [
    "## 2.2.4\n",
    "3D tensors and higher-dimensional tensors"
   ]
  },
  {
   "cell_type": "code",
   "execution_count": 12,
   "metadata": {},
   "outputs": [
    {
     "name": "stdout",
     "output_type": "stream",
     "text": [
      "[[[ 1  2  3  4  5]\n",
      "  [ 6  7  8  9 10]\n",
      "  [11 12 13 14 15]]\n",
      "\n",
      " [[16 17 18 19 20]\n",
      "  [21 22 23 24 25]\n",
      "  [26 27 28 29 30]]\n",
      "\n",
      " [[31 32 33 34 35]\n",
      "  [36 37 38 39 40]\n",
      "  [41 42 43 44 45]]]\n",
      "3\n",
      "int64\n",
      "(3, 3, 5)\n"
     ]
    }
   ],
   "source": [
    "a = np.arange(1,46).reshape((3,3,5))\n",
    "print(a)\n",
    "print(a.ndim)#axis, dimension# Rank\n",
    "print(a.dtype)\n",
    "print(a.shape)#how many index in perticular axes"
   ]
  },
  {
   "cell_type": "code",
   "execution_count": 13,
   "metadata": {},
   "outputs": [
    {
     "name": "stdout",
     "output_type": "stream",
     "text": [
      "[[[[1. 1.]\n",
      "   [1. 1.]]\n",
      "\n",
      "  [[1. 1.]\n",
      "   [1. 1.]]]\n",
      "\n",
      "\n",
      " [[[1. 1.]\n",
      "   [1. 1.]]\n",
      "\n",
      "  [[1. 1.]\n",
      "   [1. 1.]]]]\n",
      "4\n",
      "float64\n",
      "(2, 2, 2, 2)\n"
     ]
    }
   ],
   "source": [
    "a = np.ones((2,2,2,2))\n",
    "print(a)\n",
    "print(a.ndim)#axis, dimension# Rank\n",
    "print(a.dtype)\n",
    "print(a.shape)#how many index in perticular axes"
   ]
  },
  {
   "cell_type": "code",
   "execution_count": null,
   "metadata": {},
   "outputs": [],
   "source": []
  }
 ],
 "metadata": {
  "kernelspec": {
   "display_name": "Python 3",
   "language": "python",
   "name": "python3"
  },
  "language_info": {
   "codemirror_mode": {
    "name": "ipython",
    "version": 3
   },
   "file_extension": ".py",
   "mimetype": "text/x-python",
   "name": "python",
   "nbconvert_exporter": "python",
   "pygments_lexer": "ipython3",
   "version": "3.7.6"
  }
 },
 "nbformat": 4,
 "nbformat_minor": 4
}
