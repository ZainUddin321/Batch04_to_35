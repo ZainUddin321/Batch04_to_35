{
 "cells": [
  {
   "cell_type": "code",
   "execution_count": 1,
   "metadata": {},
   "outputs": [],
   "source": [
    "import numpy as np"
   ]
  },
  {
   "cell_type": "markdown",
   "metadata": {},
   "source": [
    "# WX + B\n",
    "1. W.T (generate w matrix with tranpose size of X matrix)\n",
    "2. dot_product(X, W.T)\n",
    "3. after dotproduct add biase (b)\n",
    "4. at the end apply activation_function on each element\n",
    "5. finally predict value of y_predict\n",
    "6. calculate loss (y - y_predict)\n",
    "7. update W and b values\n"
   ]
  },
  {
   "cell_type": "markdown",
   "metadata": {},
   "source": [
    "# relu(dot(W, input) + b)"
   ]
  },
  {
   "cell_type": "code",
   "execution_count": 2,
   "metadata": {},
   "outputs": [
    {
     "data": {
      "text/plain": [
       "array([[ 0,  1,  2,  3],\n",
       "       [ 4,  5,  6,  7],\n",
       "       [ 8,  9, 10, 11],\n",
       "       [12, 13, 14, 15],\n",
       "       [16, 17, 18, 19],\n",
       "       [20, 21, 22, 23]])"
      ]
     },
     "execution_count": 2,
     "metadata": {},
     "output_type": "execute_result"
    }
   ],
   "source": [
    "X = np.arange(24).reshape(6,4) # Input\n",
    "X"
   ]
  },
  {
   "cell_type": "code",
   "execution_count": 3,
   "metadata": {},
   "outputs": [
    {
     "data": {
      "text/plain": [
       "array([[-0.24468371,  1.90686956, -0.61806607,  0.87737054, -1.51847619,\n",
       "        -0.82811331],\n",
       "       [-0.25853822,  0.36803797,  0.71663059, -0.8038967 ,  1.01668537,\n",
       "         0.27339811],\n",
       "       [ 0.50702102, -0.28784895,  1.02592427,  0.87845734, -0.6502006 ,\n",
       "        -1.31927924],\n",
       "       [-1.84995408,  0.64698156,  0.07799445,  0.80938359,  2.54176879,\n",
       "        -1.20912159]])"
      ]
     },
     "execution_count": 3,
     "metadata": {},
     "output_type": "execute_result"
    }
   ],
   "source": [
    "W = np.random.randn(*X.shape) # Randomly generate weights w0\n",
    "W = W.T # Transpose\n",
    "W"
   ]
  },
  {
   "cell_type": "code",
   "execution_count": 4,
   "metadata": {},
   "outputs": [
    {
     "data": {
      "text/plain": [
       "array([[-27.64648918, -28.07158837, -28.49668756, -28.92178675],\n",
       "       [ 19.29336446,  20.60568159,  21.91799872,  23.23031585],\n",
       "       [-19.19130781, -19.03723395, -18.8831601 , -18.72908624],\n",
       "       [ 29.41035381,  30.42740653,  31.44445925,  32.46151197]])"
      ]
     },
     "execution_count": 4,
     "metadata": {},
     "output_type": "execute_result"
    }
   ],
   "source": [
    "step1 = np.dot(W,X) # dot_product (input, W.T)\n",
    "step1"
   ]
  },
  {
   "cell_type": "code",
   "execution_count": 5,
   "metadata": {},
   "outputs": [
    {
     "data": {
      "text/plain": [
       "array([[-25.64648918, -26.07158837, -26.49668756, -26.92178675],\n",
       "       [ 21.29336446,  22.60568159,  23.91799872,  25.23031585],\n",
       "       [-17.19130781, -17.03723395, -16.8831601 , -16.72908624],\n",
       "       [ 31.41035381,  32.42740653,  33.44445925,  34.46151197]])"
      ]
     },
     "execution_count": 5,
     "metadata": {},
     "output_type": "execute_result"
    }
   ],
   "source": [
    "b = 2 #add biase , weight\n",
    "step2 = step1 + b\n",
    "step2"
   ]
  },
  {
   "cell_type": "code",
   "execution_count": 6,
   "metadata": {},
   "outputs": [
    {
     "data": {
      "text/plain": [
       "array([[ 0.        ,  0.        ,  0.        ,  0.        ],\n",
       "       [21.29336446, 22.60568159, 23.91799872, 25.23031585],\n",
       "       [ 0.        ,  0.        ,  0.        ,  0.        ],\n",
       "       [31.41035381, 32.42740653, 33.44445925, 34.46151197]])"
      ]
     },
     "execution_count": 6,
     "metadata": {},
     "output_type": "execute_result"
    }
   ],
   "source": [
    "# apply relu function on step2\n",
    "np.maximum(step2, 0) # Relu Function"
   ]
  },
  {
   "cell_type": "markdown",
   "metadata": {},
   "source": [
    "# Relu with Naive code"
   ]
  },
  {
   "cell_type": "code",
   "execution_count": 7,
   "metadata": {},
   "outputs": [],
   "source": [
    "def naive_relu(x):\n",
    "    assert len(x.shape) == 2\n",
    "    x = x.copy()\n",
    "    for i in range(x.shape[0]):\n",
    "        for j in range(x.shape[1]):\n",
    "            x[i, j] = max(x[i, j], 0)\n",
    "    return x"
   ]
  },
  {
   "cell_type": "code",
   "execution_count": 8,
   "metadata": {},
   "outputs": [
    {
     "data": {
      "text/plain": [
       "array([[ 0.        ,  0.        ,  0.        ,  0.        ],\n",
       "       [21.29336446, 22.60568159, 23.91799872, 25.23031585],\n",
       "       [ 0.        ,  0.        ,  0.        ,  0.        ],\n",
       "       [31.41035381, 32.42740653, 33.44445925, 34.46151197]])"
      ]
     },
     "execution_count": 8,
     "metadata": {},
     "output_type": "execute_result"
    }
   ],
   "source": [
    "naive_relu(step2)"
   ]
  },
  {
   "cell_type": "markdown",
   "metadata": {},
   "source": [
    "# Add Element wise operation"
   ]
  },
  {
   "cell_type": "code",
   "execution_count": 10,
   "metadata": {},
   "outputs": [
    {
     "name": "stdout",
     "output_type": "stream",
     "text": [
      "[[ 0  1  2]\n",
      " [ 3  4  5]\n",
      " [ 6  7  8]\n",
      " [ 9 10 11]]\n",
      "[[ 0  2  4]\n",
      " [ 6  8 10]\n",
      " [12 14 16]\n",
      " [18 20 22]]\n"
     ]
    }
   ],
   "source": [
    "def naive_add(x, y):\n",
    "    assert len(x.shape) == 2\n",
    "    assert x.shape == y.shape\n",
    "    x = x.copy()\n",
    "    for i in range(x.shape[0]):\n",
    "        for j in range(x.shape[1]):\n",
    "            x[i, j] += y[i, j]\n",
    "    return x\n",
    "\n",
    "a = np.arange(12).reshape(4,3)\n",
    "b = a * 2\n",
    "print(a)\n",
    "print(b)"
   ]
  },
  {
   "cell_type": "code",
   "execution_count": 11,
   "metadata": {},
   "outputs": [
    {
     "data": {
      "text/plain": [
       "array([[ 0,  3,  6],\n",
       "       [ 9, 12, 15],\n",
       "       [18, 21, 24],\n",
       "       [27, 30, 33]])"
      ]
     },
     "execution_count": 11,
     "metadata": {},
     "output_type": "execute_result"
    }
   ],
   "source": [
    "a + b"
   ]
  },
  {
   "cell_type": "code",
   "execution_count": 12,
   "metadata": {},
   "outputs": [
    {
     "data": {
      "text/plain": [
       "array([[ 0,  3,  6],\n",
       "       [ 9, 12, 15],\n",
       "       [18, 21, 24],\n",
       "       [27, 30, 33]])"
      ]
     },
     "execution_count": 12,
     "metadata": {},
     "output_type": "execute_result"
    }
   ],
   "source": [
    "naive_add(a,b)"
   ]
  },
  {
   "cell_type": "markdown",
   "metadata": {},
   "source": [
    "# BroadCasting"
   ]
  },
  {
   "cell_type": "code",
   "execution_count": 13,
   "metadata": {},
   "outputs": [
    {
     "data": {
      "text/plain": [
       "array([[  0,   1,   2,   3,   4,   5,   6,   7,   8,   9],\n",
       "       [ 10,  11,  12,  13,  14,  15,  16,  17,  18,  19],\n",
       "       [ 20,  21,  22,  23,  24,  25,  26,  27,  28,  29],\n",
       "       [ 30,  31,  32,  33,  34,  35,  36,  37,  38,  39],\n",
       "       [ 40,  41,  42,  43,  44,  45,  46,  47,  48,  49],\n",
       "       [ 50,  51,  52,  53,  54,  55,  56,  57,  58,  59],\n",
       "       [ 60,  61,  62,  63,  64,  65,  66,  67,  68,  69],\n",
       "       [ 70,  71,  72,  73,  74,  75,  76,  77,  78,  79],\n",
       "       [ 80,  81,  82,  83,  84,  85,  86,  87,  88,  89],\n",
       "       [ 90,  91,  92,  93,  94,  95,  96,  97,  98,  99],\n",
       "       [100, 101, 102, 103, 104, 105, 106, 107, 108, 109],\n",
       "       [110, 111, 112, 113, 114, 115, 116, 117, 118, 119],\n",
       "       [120, 121, 122, 123, 124, 125, 126, 127, 128, 129],\n",
       "       [130, 131, 132, 133, 134, 135, 136, 137, 138, 139],\n",
       "       [140, 141, 142, 143, 144, 145, 146, 147, 148, 149],\n",
       "       [150, 151, 152, 153, 154, 155, 156, 157, 158, 159],\n",
       "       [160, 161, 162, 163, 164, 165, 166, 167, 168, 169],\n",
       "       [170, 171, 172, 173, 174, 175, 176, 177, 178, 179],\n",
       "       [180, 181, 182, 183, 184, 185, 186, 187, 188, 189],\n",
       "       [190, 191, 192, 193, 194, 195, 196, 197, 198, 199],\n",
       "       [200, 201, 202, 203, 204, 205, 206, 207, 208, 209],\n",
       "       [210, 211, 212, 213, 214, 215, 216, 217, 218, 219],\n",
       "       [220, 221, 222, 223, 224, 225, 226, 227, 228, 229],\n",
       "       [230, 231, 232, 233, 234, 235, 236, 237, 238, 239],\n",
       "       [240, 241, 242, 243, 244, 245, 246, 247, 248, 249],\n",
       "       [250, 251, 252, 253, 254, 255, 256, 257, 258, 259],\n",
       "       [260, 261, 262, 263, 264, 265, 266, 267, 268, 269],\n",
       "       [270, 271, 272, 273, 274, 275, 276, 277, 278, 279],\n",
       "       [280, 281, 282, 283, 284, 285, 286, 287, 288, 289],\n",
       "       [290, 291, 292, 293, 294, 295, 296, 297, 298, 299],\n",
       "       [300, 301, 302, 303, 304, 305, 306, 307, 308, 309],\n",
       "       [310, 311, 312, 313, 314, 315, 316, 317, 318, 319]])"
      ]
     },
     "execution_count": 13,
     "metadata": {},
     "output_type": "execute_result"
    }
   ],
   "source": [
    "a = np.arange(32*10).reshape(32,10)\n",
    "b = np.arange(1*10).reshape(1,10)\n",
    "a"
   ]
  },
  {
   "cell_type": "code",
   "execution_count": 14,
   "metadata": {},
   "outputs": [
    {
     "data": {
      "text/plain": [
       "array([[0, 1, 2, 3, 4, 5, 6, 7, 8, 9]])"
      ]
     },
     "execution_count": 14,
     "metadata": {},
     "output_type": "execute_result"
    }
   ],
   "source": [
    "b"
   ]
  },
  {
   "cell_type": "code",
   "execution_count": 15,
   "metadata": {},
   "outputs": [
    {
     "data": {
      "text/plain": [
       "array([[  0,   2,   4,   6,   8,  10,  12,  14,  16,  18],\n",
       "       [ 10,  12,  14,  16,  18,  20,  22,  24,  26,  28],\n",
       "       [ 20,  22,  24,  26,  28,  30,  32,  34,  36,  38],\n",
       "       [ 30,  32,  34,  36,  38,  40,  42,  44,  46,  48],\n",
       "       [ 40,  42,  44,  46,  48,  50,  52,  54,  56,  58],\n",
       "       [ 50,  52,  54,  56,  58,  60,  62,  64,  66,  68],\n",
       "       [ 60,  62,  64,  66,  68,  70,  72,  74,  76,  78],\n",
       "       [ 70,  72,  74,  76,  78,  80,  82,  84,  86,  88],\n",
       "       [ 80,  82,  84,  86,  88,  90,  92,  94,  96,  98],\n",
       "       [ 90,  92,  94,  96,  98, 100, 102, 104, 106, 108],\n",
       "       [100, 102, 104, 106, 108, 110, 112, 114, 116, 118],\n",
       "       [110, 112, 114, 116, 118, 120, 122, 124, 126, 128],\n",
       "       [120, 122, 124, 126, 128, 130, 132, 134, 136, 138],\n",
       "       [130, 132, 134, 136, 138, 140, 142, 144, 146, 148],\n",
       "       [140, 142, 144, 146, 148, 150, 152, 154, 156, 158],\n",
       "       [150, 152, 154, 156, 158, 160, 162, 164, 166, 168],\n",
       "       [160, 162, 164, 166, 168, 170, 172, 174, 176, 178],\n",
       "       [170, 172, 174, 176, 178, 180, 182, 184, 186, 188],\n",
       "       [180, 182, 184, 186, 188, 190, 192, 194, 196, 198],\n",
       "       [190, 192, 194, 196, 198, 200, 202, 204, 206, 208],\n",
       "       [200, 202, 204, 206, 208, 210, 212, 214, 216, 218],\n",
       "       [210, 212, 214, 216, 218, 220, 222, 224, 226, 228],\n",
       "       [220, 222, 224, 226, 228, 230, 232, 234, 236, 238],\n",
       "       [230, 232, 234, 236, 238, 240, 242, 244, 246, 248],\n",
       "       [240, 242, 244, 246, 248, 250, 252, 254, 256, 258],\n",
       "       [250, 252, 254, 256, 258, 260, 262, 264, 266, 268],\n",
       "       [260, 262, 264, 266, 268, 270, 272, 274, 276, 278],\n",
       "       [270, 272, 274, 276, 278, 280, 282, 284, 286, 288],\n",
       "       [280, 282, 284, 286, 288, 290, 292, 294, 296, 298],\n",
       "       [290, 292, 294, 296, 298, 300, 302, 304, 306, 308],\n",
       "       [300, 302, 304, 306, 308, 310, 312, 314, 316, 318],\n",
       "       [310, 312, 314, 316, 318, 320, 322, 324, 326, 328]])"
      ]
     },
     "execution_count": 15,
     "metadata": {},
     "output_type": "execute_result"
    }
   ],
   "source": [
    "a + b"
   ]
  },
  {
   "cell_type": "code",
   "execution_count": 12,
   "metadata": {},
   "outputs": [
    {
     "name": "stdout",
     "output_type": "stream",
     "text": [
      "2.3 2.3\n"
     ]
    }
   ],
   "source": [
    "x = 2\n",
    "\n",
    "epsilon_x = epsilon_y = 0.3\n",
    "\n",
    "\n",
    "\n",
    "def f(x):\n",
    "    return x + epsilon_y\n",
    "\n",
    "y = f(x)\n",
    "print(x+epsilon_x,y)"
   ]
  },
  {
   "cell_type": "code",
   "execution_count": 17,
   "metadata": {},
   "outputs": [
    {
     "data": {
      "text/plain": [
       "12"
      ]
     },
     "execution_count": 17,
     "metadata": {},
     "output_type": "execute_result"
    }
   ],
   "source": [
    "def a(x):\n",
    "    return x+2\n",
    "\n",
    "def b(x):\n",
    "    return x+3\n",
    "\n",
    "def c(x):\n",
    "    return x+5\n",
    "\n",
    "c(b(a(2)))\n",
    "#12"
   ]
  },
  {
   "cell_type": "code",
   "execution_count": 18,
   "metadata": {},
   "outputs": [
    {
     "data": {
      "text/plain": [
       "array([[-0.24468371,  1.90686956, -0.61806607,  0.87737054, -1.51847619,\n",
       "        -0.82811331],\n",
       "       [-0.25853822,  0.36803797,  0.71663059, -0.8038967 ,  1.01668537,\n",
       "         0.27339811],\n",
       "       [ 0.50702102, -0.28784895,  1.02592427,  0.87845734, -0.6502006 ,\n",
       "        -1.31927924],\n",
       "       [-1.84995408,  0.64698156,  0.07799445,  0.80938359,  2.54176879,\n",
       "        -1.20912159]])"
      ]
     },
     "execution_count": 18,
     "metadata": {},
     "output_type": "execute_result"
    }
   ],
   "source": [
    "W"
   ]
  },
  {
   "cell_type": "code",
   "execution_count": 13,
   "metadata": {},
   "outputs": [
    {
     "data": {
      "text/plain": [
       "array([[-0.24468371,  1.90686956, -0.61806607,  0.87737054, -1.51847619,\n",
       "        -0.82811331],\n",
       "       [-0.25853822,  0.36803797,  0.71663059, -0.8038967 ,  1.01668537,\n",
       "         0.27339811],\n",
       "       [ 0.50702102, -0.28784895,  1.02592427,  0.87845734, -0.6502006 ,\n",
       "        -1.31927924],\n",
       "       [-1.84995408,  0.64698156,  0.07799445,  0.80938359,  2.54176879,\n",
       "        -1.20912159]])"
      ]
     },
     "execution_count": 13,
     "metadata": {},
     "output_type": "execute_result"
    }
   ],
   "source": [
    "g = 2 #Gradient slop\n",
    "step = 0.2 # learning rate\n",
    "\n",
    "W"
   ]
  },
  {
   "cell_type": "code",
   "execution_count": 19,
   "metadata": {},
   "outputs": [
    {
     "data": {
      "text/plain": [
       "array([[-0.64468371,  1.50686956, -1.01806607,  0.47737054, -1.91847619,\n",
       "        -1.22811331],\n",
       "       [-0.65853822, -0.03196203,  0.31663059, -1.2038967 ,  0.61668537,\n",
       "        -0.12660189],\n",
       "       [ 0.10702102, -0.68784895,  0.62592427,  0.47845734, -1.0502006 ,\n",
       "        -1.71927924],\n",
       "       [-2.24995408,  0.24698156, -0.32200555,  0.40938359,  2.14176879,\n",
       "        -1.60912159]])"
      ]
     },
     "execution_count": 19,
     "metadata": {},
     "output_type": "execute_result"
    }
   ],
   "source": [
    "w1 = W - step * g # g= gradient\n",
    "w1"
   ]
  },
  {
   "cell_type": "code",
   "execution_count": null,
   "metadata": {},
   "outputs": [],
   "source": []
  }
 ],
 "metadata": {
  "kernelspec": {
   "display_name": "Python 3",
   "language": "python",
   "name": "python3"
  },
  "language_info": {
   "codemirror_mode": {
    "name": "ipython",
    "version": 3
   },
   "file_extension": ".py",
   "mimetype": "text/x-python",
   "name": "python",
   "nbconvert_exporter": "python",
   "pygments_lexer": "ipython3",
   "version": "3.7.6"
  }
 },
 "nbformat": 4,
 "nbformat_minor": 4
}
